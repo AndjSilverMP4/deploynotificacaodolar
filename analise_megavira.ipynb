{
  "nbformat": 4,
  "nbformat_minor": 0,
  "metadata": {
    "colab": {
      "provenance": [],
      "authorship_tag": "ABX9TyMC35bd6AOrrrSWmT7WQEAz",
      "include_colab_link": true
    },
    "kernelspec": {
      "name": "python3",
      "display_name": "Python 3"
    },
    "language_info": {
      "name": "python"
    }
  },
  "cells": [
    {
      "cell_type": "markdown",
      "metadata": {
        "id": "view-in-github",
        "colab_type": "text"
      },
      "source": [
        "<a href=\"https://colab.research.google.com/github/AndjSilverMP4/deploynotificacaodolar/blob/main/analise_megavira.ipynb\" target=\"_parent\"><img src=\"https://colab.research.google.com/assets/colab-badge.svg\" alt=\"Open In Colab\"/></a>"
      ]
    },
    {
      "cell_type": "markdown",
      "source": [
        "#mega_da_virada = [ 21, 24, 33, 41, 48, 56, # 2023 4, 5, 10, 34, 58, 59, # 2022 12, 15, 23, 32, 33, 46, # 2021 17, 20, 22, 35, 41, 42, # 2020 3, 35, 38, 40, 57, 58, # 2019 5, 10, 12, 18, 25, 33, # 2018 3, 6, 10, 17, 34, 37, # 2017 5, 11, 22, 24, 51, 53, # 2016 2, 18, 31, 42, 51, 56, # 2015 1, 5, 11, 16, 20, 56, # 2014 20, 30, 36, 38, 47, 53, # 2013 14, 32, 33, 36, 41, 52, # 2012 3, 4, 29, 36, 45, 55, # 2011 2, 10, 34, 37, 43, 50, # 2010 10, 27, 40, 46, 49, 58, # 2009 1, 11, 26, 51, 59, 60 # 2008 ]"
      ],
      "metadata": {
        "id": "WPfBnmLeh7n5"
      }
    },
    {
      "cell_type": "code",
      "execution_count": 1,
      "metadata": {
        "id": "L9OZgV-nhu8K"
      },
      "outputs": [],
      "source": [
        "import pandas as pd\n",
        "import matplotlib.pyplot as plt\n",
        "import numpy as np\n"
      ]
    },
    {
      "cell_type": "code",
      "source": [
        "from itertools import chain\n",
        "\n",
        "mega_da_virada = [\n",
        "    [21, 24, 33, 41, 48, 56],  # 2023\n",
        "    [4, 5, 10, 34, 58, 59],    # 2022\n",
        "    [12, 15, 23, 32, 33, 46],  # 2021\n",
        "    [17, 20, 22, 35, 41, 42],  # 2020\n",
        "    [3, 35, 38, 40, 57, 58],   # 2019\n",
        "    [5, 10, 12, 18, 25, 33],   # 2018\n",
        "    [3, 6, 10, 17, 34, 37],    # 2017\n",
        "    [5, 11, 22, 24, 51, 53],   # 2016\n",
        "    [2, 18, 31, 42, 51, 56],   # 2015\n",
        "    [1, 5, 11, 16, 20, 56],    # 2014\n",
        "    [20, 30, 36, 38, 47, 53],   # 2013\n",
        "    [14, 32, 33, 36, 41, 52],   # 2012\n",
        "    [3, 4, 29, 36, 45, 55],     # 2011\n",
        "    [2, 10, 34, 37, 43, 50],    # 2010\n",
        "    [10, 27, 40, 46, 49, 58],    # 2009\n",
        "    [1, 11, 26, 51, 59, 60]      # 2008\n",
        "]\n",
        "\n",
        "# Crie um conjunto com todos os números possíveis (de 1 a 60)\n",
        "todos_os_numeros = set(range(1, 61))\n",
        "\n",
        "# Crie um conjunto com todos os números que já foram sorteados\n",
        "numeros_sorteados = set(chain.from_iterable(mega_da_virada))\n",
        "\n",
        "# Encontre os números que nunca foram sorteados\n",
        "numeros_nao_sorteados = sorted(list(todos_os_numeros - numeros_sorteados))\n",
        "\n",
        "# Imprima os números que nunca foram sorteados\n",
        "print(\"Números que nunca foram sorteados:\", numeros_nao_sorteados)"
      ],
      "metadata": {
        "colab": {
          "base_uri": "https://localhost:8080/"
        },
        "id": "pp2B3FjUiMgT",
        "outputId": "37994331-3fa1-41bb-a73b-5c7195f53e46"
      },
      "execution_count": 2,
      "outputs": [
        {
          "output_type": "stream",
          "name": "stdout",
          "text": [
            "Números que nunca foram sorteados: [7, 8, 9, 13, 19, 28, 39, 44, 54]\n"
          ]
        }
      ]
    },
    {
      "cell_type": "code",
      "source": [
        "mega_da_virada = [\n",
        "    [21, 24, 33, 41, 48, 56],  # 2023\n",
        "    [4, 5, 10, 34, 58, 59],    # 2022\n",
        "    [12, 15, 23, 32, 33, 46],  # 2021\n",
        "    [17, 20, 22, 35, 41, 42],  # 2020\n",
        "    [3, 35, 38, 40, 57, 58],   # 2019\n",
        "    [5, 10, 12, 18, 25, 33],   # 2018\n",
        "    [3, 6, 10, 17, 34, 37],    # 2017\n",
        "    [5, 11, 22, 24, 51, 53],   # 2016\n",
        "    [2, 18, 31, 42, 51, 56],   # 2015\n",
        "    [1, 5, 11, 16, 20, 56],    # 2014\n",
        "    [20, 30, 36, 38, 47, 53],   # 2013\n",
        "    [14, 32, 33, 36, 41, 52],   # 2012\n",
        "    [3, 4, 29, 36, 45, 55],     # 2011\n",
        "    [2, 10, 34, 37, 43, 50],    # 2010\n",
        "    [10, 27, 40, 46, 49, 58],    # 2009\n",
        "    [1, 11, 26, 51, 59, 60]      # 2008\n",
        "]\n",
        "\n",
        "# Create a dictionary to store the frequency of each number\n",
        "all_numbers = {}\n",
        "for year_results in mega_da_virada:\n",
        "    for number in year_results:\n",
        "        all_numbers[number] = all_numbers.get(number, 0) + 1\n",
        "\n",
        "# Find numbers that have been drawn more than once\n",
        "repeated_numbers = [number for number, frequency in all_numbers.items() if frequency > 1]\n",
        "\n",
        "# Print the repeated numbers\n",
        "print(\"Números que se repetiram:\", repeated_numbers)"
      ],
      "metadata": {
        "colab": {
          "base_uri": "https://localhost:8080/"
        },
        "id": "UQ2Nqyl-ibwr",
        "outputId": "859017a5-72aa-4e37-b596-04a3ee39b135"
      },
      "execution_count": 3,
      "outputs": [
        {
          "output_type": "stream",
          "name": "stdout",
          "text": [
            "Números que se repetiram: [24, 33, 41, 56, 4, 5, 10, 34, 58, 59, 12, 32, 46, 17, 20, 22, 35, 42, 3, 38, 40, 18, 37, 11, 51, 53, 2, 1, 36]\n"
          ]
        }
      ]
    },
    {
      "cell_type": "code",
      "source": [
        "from collections import Counter\n",
        "\n",
        "mega_da_virada = [\n",
        "    [21, 24, 33, 41, 48, 56],  # 2023\n",
        "    [4, 5, 10, 34, 58, 59],    # 2022\n",
        "    [12, 15, 23, 32, 33, 46],  # 2021\n",
        "    [17, 20, 22, 35, 41, 42],  # 2020\n",
        "    [3, 35, 38, 40, 57, 58],   # 2019\n",
        "    [5, 10, 12, 18, 25, 33],   # 2018\n",
        "    [3, 6, 10, 17, 34, 37],    # 2017\n",
        "    [5, 11, 22, 24, 51, 53],   # 2016\n",
        "    [2, 18, 31, 42, 51, 56],   # 2015\n",
        "    [1, 5, 11, 16, 20, 56],    # 2014\n",
        "    [20, 30, 36, 38, 47, 53],   # 2013\n",
        "    [14, 32, 33, 36, 41, 52],   # 2012\n",
        "    [3, 4, 29, 36, 45, 55],     # 2011\n",
        "    [2, 10, 34, 37, 43, 50],    # 2010\n",
        "    [10, 27, 40, 46, 49, 58],    # 2009\n",
        "    [1, 11, 26, 51, 59, 60]      # 2008\n",
        "]\n",
        "\n",
        "# Achata a lista de resultados em uma única lista\n",
        "todos_numeros = [num for sublista in mega_da_virada for num in sublista]\n",
        "\n",
        "# Usa Counter para contar a frequência de cada número\n",
        "contagem_numeros = Counter(todos_numeros)\n",
        "\n",
        "# Filtra os números que aparecem mais de uma vez\n",
        "numeros_repetidos = [num for num, freq in contagem_numeros.items() if freq > 1]\n",
        "\n",
        "# Imprime os números repetidos\n",
        "print(\"Números que se repetem em pelo menos dois anos:\", numeros_repetidos)"
      ],
      "metadata": {
        "colab": {
          "base_uri": "https://localhost:8080/"
        },
        "id": "M38cLiaNipKj",
        "outputId": "b513c361-b6fd-4ac0-9c8e-f3049c537d88"
      },
      "execution_count": 4,
      "outputs": [
        {
          "output_type": "stream",
          "name": "stdout",
          "text": [
            "Números que se repetem em pelo menos dois anos: [24, 33, 41, 56, 4, 5, 10, 34, 58, 59, 12, 32, 46, 17, 20, 22, 35, 42, 3, 38, 40, 18, 37, 11, 51, 53, 2, 1, 36]\n"
          ]
        }
      ]
    },
    {
      "cell_type": "code",
      "source": [
        "\n",
        "from collections import Counter\n",
        "\n",
        "mega_da_virada = [\n",
        "    [21, 24, 33, 41, 48, 56],  # 2023\n",
        "    [4, 5, 10, 34, 58, 59],    # 2022\n",
        "    # ... (restante da lista)\n",
        "]\n",
        "\n",
        "# Achata a lista de resultados em uma única lista\n",
        "todos_numeros = [num for sublista in mega_da_virada for num in sublista]\n",
        "\n",
        "# Usa Counter para contar a frequência de cada número\n",
        "contagem_numeros = Counter(todos_numeros)\n",
        "\n",
        "# Obtém os 6 números mais frequentes\n",
        "numeros_mais_frequentes = [num for num, freq in contagem_numeros.most_common(6)]\n",
        "\n",
        "print(\"Sequência de 6 dezenas com maior probabilidade:\", numeros_mais_frequentes)"
      ],
      "metadata": {
        "colab": {
          "base_uri": "https://localhost:8080/"
        },
        "id": "igSbdM6Oiwcd",
        "outputId": "734d48ea-1b55-45ae-f8f7-be3ab3e5451c"
      },
      "execution_count": 5,
      "outputs": [
        {
          "output_type": "stream",
          "name": "stdout",
          "text": [
            "Sequência de 6 dezenas com maior probabilidade: [21, 24, 33, 41, 48, 56]\n"
          ]
        }
      ]
    },
    {
      "cell_type": "code",
      "source": [
        "import matplotlib.pyplot as plt\n",
        "import numpy as np\n",
        "from collections import Counter\n",
        "\n",
        "mega_da_virada = [\n",
        "    [21, 24, 33, 41, 48, 56],  # 2023\n",
        "    [4, 5, 10, 34, 58, 59],    # 2022\n",
        "    [12, 15, 23, 32, 33, 46],  # 2021\n",
        "    [17, 20, 22, 35, 41, 42],  # 2020\n",
        "    [3, 35, 38, 40, 57, 58],   # 2019\n",
        "    [5, 10, 12, 18, 25, 33],   # 2018\n",
        "    [3, 6, 10, 17, 34, 37],    # 2017\n",
        "    [5, 11, 22, 24, 51, 53],   # 2016\n",
        "    [2, 18, 31, 42, 51, 56],   # 2015\n",
        "    [1, 5, 11, 16, 20, 56],    # 2014\n",
        "    [20, 30, 36, 38, 47, 53],   # 2013\n",
        "    [14, 32, 33, 36, 41, 52],   # 2012\n",
        "    [3, 4, 29, 36, 45, 55],     # 2011\n",
        "    [2, 10, 34, 37, 43, 50],    # 2010\n",
        "    [10, 27, 40, 46, 49, 58],    # 2009\n",
        "    [1, 11, 26, 51, 59, 60]      # 2008\n",
        "]\n",
        "\n",
        "# Achata a lista de resultados\n",
        "todos_numeros = [num for sublista in mega_da_virada for num in sublista]\n",
        "\n",
        "# Conta a frequência de cada número\n",
        "contagem_numeros = Counter(todos_numeros)\n",
        "\n",
        "# Ordena os números por frequência (decrescente)\n",
        "numeros_ordenados = sorted(contagem_numeros, key=contagem_numeros.get, reverse=True)\n",
        "frequencias = [contagem_numeros[num] for num in numeros_ordenados]\n",
        "\n",
        "# Calcula as porcentagens\n",
        "total_numeros = len(todos_numeros)\n",
        "porcentagens = [(freq / total_numeros) * 100 for freq in frequencias]\n",
        "\n",
        "# Cria o gráfico de barras com as porcentagens\n",
        "plt.figure(figsize=(12, 6))  # Ajusta o tamanho da figura\n",
        "plt.bar(numeros_ordenados, porcentagens, color='skyblue')\n",
        "plt.title('Frequência dos Números da Mega da Virada (2008-2023) em Porcentagem')\n",
        "plt.xlabel('Números')\n",
        "plt.ylabel('Porcentagem (%)')\n",
        "plt.xticks(np.arange(1, 61, 1), rotation=90)  # Define os números no eixo x\n",
        "plt.grid(axis='y', linestyle='--', alpha=0.7)  # Adiciona uma grade ao fundo\n",
        "\n",
        "# Adiciona os valores das porcentagens acima das barras\n",
        "for i, v in enumerate(porcentagens):\n",
        "    plt.text(numeros_ordenados[i], v + 0.5, f'{v:.1f}%', ha='center', va='bottom', fontsize=8)\n",
        "\n",
        "plt.tight_layout()  # Ajusta o layout para evitar sobreposição\n",
        "plt.show()"
      ],
      "metadata": {
        "colab": {
          "base_uri": "https://localhost:8080/",
          "height": 608
        },
        "id": "oYB5Idipi48s",
        "outputId": "88eed041-47e1-4272-bf47-c4ca25d71e78"
      },
      "execution_count": 6,
      "outputs": [
        {
          "output_type": "display_data",
          "data": {
            "text/plain": [
              "<Figure size 1200x600 with 1 Axes>"
            ],
            "image/png": "[encoded data removed]"
          },
          "metadata": {}
        }
      ]
    },
    {
      "cell_type": "markdown",
      "source": [
        "## Soma e divisão entre as entre as listas com respostas de 6 dezenas:"
      ],
      "metadata": {
        "id": "HmTcsMbljDiU"
      }
    },
    {
      "cell_type": "code",
      "source": [
        "import random\n",
        "\n",
        "mega_da_virada = [\n",
        "    [21, 24, 33, 41, 48, 56],  # 2023\n",
        "    [4, 5, 10, 34, 58, 59],    # 2022\n",
        "    [12, 15, 23, 32, 33, 46],  # 2021\n",
        "    [17, 20, 22, 35, 41, 42],  # 2020\n",
        "    [3, 35, 38, 40, 57, 58],   # 2019\n",
        "    [5, 10, 12, 18, 25, 33],   # 2018\n",
        "    [3, 6, 10, 17, 34, 37],    # 2017\n",
        "    [5, 11, 22, 24, 51, 53],   # 2016\n",
        "    [2, 18, 31, 42, 51, 56],   # 2015\n",
        "    [1, 5, 11, 16, 20, 56],    # 2014\n",
        "    [20, 30, 36, 38, 47, 53],   # 2013\n",
        "    [14, 32, 33, 36, 41, 52],   # 2012\n",
        "    [3, 4, 29, 36, 45, 55],     # 2011\n",
        "    [2, 10, 34, 37, 43, 50],    # 2010\n",
        "    [10, 27, 40, 46, 49, 58],    # 2009\n",
        "    [1, 11, 26, 51, 59, 60]      # 2008\n",
        "]\n",
        "\n",
        "def somar_e_dividir_listas(listas):\n",
        "    \"\"\"\n",
        "    Soma e divide elementos de listas, retornando uma lista com 6 dezenas.\n",
        "\n",
        "    Args:\n",
        "        listas: Uma lista de listas, onde cada sublista representa um conjunto de dezenas.\n",
        "\n",
        "    Returns:\n",
        "        Uma lista com 6 dezenas resultantes da soma e divisão.\n",
        "    \"\"\"\n",
        "    # 1. Soma todos os números de cada lista\n",
        "    somas = [sum(lista) for lista in listas]\n",
        "\n",
        "    # 2. Calcula a média das somas\n",
        "    media_das_somas = sum(somas) / len(somas)\n",
        "\n",
        "    # 3. Cria uma lista de resultados com 6 dezenas aleatórias\n",
        "    resultados = random.sample(range(1, 61), 6)\n",
        "\n",
        "    # 4. Ajusta os resultados com base na média das somas (opcional)\n",
        "    #    (Esta etapa pode ser modificada ou removida dependendo da lógica desejada)\n",
        "    resultados = [(num + int(media_das_somas / 6)) % 60 + 1 for num in resultados]\n",
        "\n",
        "    return resultados\n",
        "\n",
        "# Exemplo de uso:\n",
        "resultados = somar_e_dividir_listas(mega_da_virada)\n",
        "print(\"Resultados:\", resultados)"
      ],
      "metadata": {
        "colab": {
          "base_uri": "https://localhost:8080/"
        },
        "id": "RC9peBlZjJqc",
        "outputId": "06195662-613e-40ae-b14a-d2ee0b5dd5ce"
      },
      "execution_count": 7,
      "outputs": [
        {
          "output_type": "stream",
          "name": "stdout",
          "text": [
            "Resultados: [12, 33, 6, 26, 34, 32]\n"
          ]
        }
      ]
    },
    {
      "cell_type": "code",
      "source": [
        "import random\n",
        "from collections import Counter\n",
        "\n",
        "mega_da_virada = [\n",
        "    [21, 24, 33, 41, 48, 56],  # 2023\n",
        "    [4, 5, 10, 34, 58, 59],    # 2022\n",
        "    [12, 15, 23, 32, 33, 46],  # 2021\n",
        "    [17, 20, 22, 35, 41, 42],  # 2020\n",
        "    [3, 35, 38, 40, 57, 58],   # 2019\n",
        "    [5, 10, 12, 18, 25, 33],   # 2018\n",
        "    [3, 6, 10, 17, 34, 37],    # 2017\n",
        "    [5, 11, 22, 24, 51, 53],   # 2016\n",
        "    [2, 18, 31, 42, 51, 56],   # 2015\n",
        "    [1, 5, 11, 16, 20, 56],    # 2014\n",
        "    [20, 30, 36, 38, 47, 53],   # 2013\n",
        "    [14, 32, 33, 36, 41, 52],   # 2012\n",
        "    [3, 4, 29, 36, 45, 55],     # 2011\n",
        "    [2, 10, 34, 37, 43, 50],    # 2010\n",
        "    [10, 27, 40, 46, 49, 58],    # 2009\n",
        "    [1, 11, 26, 51, 59, 60]      # 2008\n",
        "]\n",
        "\n",
        "# 1. Frequência dos Números:\n",
        "todos_numeros = [num for sublista in mega_da_virada for num in sublista]\n",
        "contagem_numeros = Counter(todos_numeros)\n",
        "numeros_mais_frequentes = [num for num, freq in contagem_numeros.most_common(6)]\n",
        "\n",
        "# 2. Números que Nunca Foram Sorteados:\n",
        "todos_os_numeros = set(range(1, 61))\n",
        "numeros_sorteados = set(todos_numeros)\n",
        "numeros_nao_sorteados = sorted(list(todos_os_numeros - numeros_sorteados))\n",
        "\n",
        "# 3. Combinando as Informações:\n",
        "# - Priorizar os números mais frequentes.\n",
        "# - Incluir pelo menos um número que nunca foi sorteado (para aumentar a aleatoriedade).\n",
        "\n",
        "# Sugestão de sequência:\n",
        "sequencia_sugerida = numeros_mais_frequentes[:]  # Copia dos mais frequentes\n",
        "# Substitui um dos mais frequentes por um que nunca foi sorteado\n",
        "sequencia_sugerida[random.randint(0, 5)] = random.choice(numeros_nao_sorteados)\n",
        "# Embaralha a sequência para maior aleatoriedade\n",
        "random.shuffle(sequencia_sugerida)\n",
        "\n",
        "print(\"Sequência sugerida:\", sequencia_sugerida)"
      ],
      "metadata": {
        "colab": {
          "base_uri": "https://localhost:8080/"
        },
        "id": "7-cAvvvqjUAN",
        "outputId": "c39011cd-a23a-42fd-a4b1-72163a3cfca1"
      },
      "execution_count": 8,
      "outputs": [
        {
          "output_type": "stream",
          "name": "stdout",
          "text": [
            "Sequência sugerida: [5, 33, 19, 34, 56, 41]\n"
          ]
        }
      ]
    }
  ]
}